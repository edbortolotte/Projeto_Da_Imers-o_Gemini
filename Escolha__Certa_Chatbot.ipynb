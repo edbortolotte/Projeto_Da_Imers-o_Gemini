{
  "nbformat": 4,
  "nbformat_minor": 0,
  "metadata": {
    "colab": {
      "provenance": [],
      "authorship_tag": "ABX9TyMUBcwnhe40mZYoZvdj0V6D",
      "include_colab_link": true
    },
    "kernelspec": {
      "name": "python3",
      "display_name": "Python 3"
    },
    "language_info": {
      "name": "python"
    }
  },
  "cells": [
    {
      "cell_type": "markdown",
      "metadata": {
        "id": "view-in-github",
        "colab_type": "text"
      },
      "source": [
        "<a href=\"https://colab.research.google.com/github/edbortolotte/Projeto_Gemini_Collab/blob/main/Escolha__Certa_Chatbot.ipynb\" target=\"_parent\"><img src=\"https://colab.research.google.com/assets/colab-badge.svg\" alt=\"Open In Colab\"/></a>"
      ]
    },
    {
      "cell_type": "code",
      "execution_count": null,
      "metadata": {
        "id": "y4mo7WijnKJj"
      },
      "outputs": [],
      "source": []
    },
    {
      "cell_type": "code",
      "execution_count": 1,
      "metadata": {
        "id": "NsxwkmEyTM3D"
      },
      "outputs": [],
      "source": [
        "!pip install -q -U google-generativeai"
      ]
    },
    {
      "cell_type": "code",
      "source": [
        "import google.generativeai as genai\n",
        "from google.colab import userdata\n",
        "api_key = userdata.get(\"SECRET_KEY\")\n",
        "genai.configure(api_key=api_key)"
      ],
      "metadata": {
        "id": "33WQ_ZbTTc9v"
      },
      "execution_count": 171,
      "outputs": []
    },
    {
      "cell_type": "code",
      "source": [
        "for m in genai.list_models():\n",
        "  if 'generateContent' in m.supported_generation_methods:\n",
        "    print(m.name)\n",
        "    generation_config = {\n",
        "\"candidate_count\": 1,\n",
        "\"temperature\": 0.5,\n",
        "}\n",
        "safety_settings ={\n",
        "    \"HARASSMENT\": \"BLOCK_NONE\",\n",
        "    \"HATE\": \"BLOCK_NONE\",\n",
        "    \"SEXUAL\": \"BLOCK_NONE\",\n",
        "    \"DANGEROUS\": \"BLOCK_NONE\"}\n",
        "model = genai.GenerativeModel(model_name=\"gemini-1.0-pro\",\n",
        "                              generation_config=generation_config,\n",
        "                              safety_settings=safety_settings)"
      ],
      "metadata": {
        "id": "YIMAxhMoThxc"
      },
      "execution_count": null,
      "outputs": []
    },
    {
      "cell_type": "code",
      "source": [
        "chat = model.start_chat(history=[])\n",
        "response = model.generate_content\n"
      ],
      "metadata": {
        "id": "BKKSQdORTpim"
      },
      "execution_count": 4,
      "outputs": []
    },
    {
      "cell_type": "code",
      "source": [],
      "metadata": {
        "id": "w6G3Z4nzHXhv"
      },
      "execution_count": 5,
      "outputs": []
    },
    {
      "cell_type": "code",
      "source": [
        "generation_config = {\n",
        "  \"temperature\": 0,\n",
        "  \"top_p\": 0.5,\n",
        "  \"top_k\": 0,\n",
        "  \"max_output_tokens\": 8192,\n",
        "}"
      ],
      "metadata": {
        "id": "6vmMBKlrHk7w"
      },
      "execution_count": 168,
      "outputs": []
    },
    {
      "cell_type": "code",
      "source": [
        "safety_settings = [\n",
        "  {\n",
        "    \"category\": \"HARM_CATEGORY_HARASSMENT\",\n",
        "    \"threshold\": \"BLOCK_MEDIUM_AND_ABOVE\"\n",
        "  },\n",
        "  {\n",
        "    \"category\": \"HARM_CATEGORY_HATE_SPEECH\",\n",
        "    \"threshold\": \"BLOCK_MEDIUM_AND_ABOVE\"\n",
        "  },\n",
        "  {\n",
        "    \"category\": \"HARM_CATEGORY_SEXUALLY_EXPLICIT\",\n",
        "    \"threshold\": \"BLOCK_MEDIUM_AND_ABOVE\"\n",
        "  },\n",
        "  {\n",
        "    \"category\": \"HARM_CATEGORY_DANGEROUS_CONTENT\",\n",
        "    \"threshold\": \"BLOCK_MEDIUM_AND_ABOVE\"\n",
        "  },\n",
        "]\n",
        "\n",
        "system_instruction = \"Cite apenas filmes populares e com boas notas no imdb\"\n",
        "\n",
        "model = genai.GenerativeModel(model_name=\"gemini-1.5-pro-latest\",\n",
        "                              generation_config=generation_config,\n",
        "                              system_instruction=system_instruction,\n",
        "                              safety_settings=safety_settings)"
      ],
      "metadata": {
        "id": "zmMduenZHp7R"
      },
      "execution_count": 7,
      "outputs": []
    },
    {
      "cell_type": "code",
      "source": [
        "nome_chatbot = \"Escolha Certa\"\n",
        "print(f\"Olá! Sou o {nome_chatbot}! Seu assistente virtual, e estou aqui  para  ajudar a escolher seu próximo filme favorito! \\n\")\n",
        "generos_filmes = [\n",
        "    \"Ação\",\n",
        "    \"Drama\",\n",
        "    \"Romance\",\n",
        "    \"Épico\",\n",
        "    \"Terror\",\n",
        "    \"Infantil\",\n",
        "    \"Animação\",\n",
        "    \"Anime\",\n",
        "    \"Documentário\",\n",
        "    \"Baseado em Fatos Reais\",\n",
        "    \"Premiados\",\n",
        "    \"Comédia\",\n",
        "    \"Aventura\",\n",
        "    \"Ficção Ciêntifica\" \"\\n\"\n",
        "]\n",
        "print(\"Aqui estão os gêneros de filmes que você pode escolher: \\n\")\n",
        "for genero in generos_filmes:\n",
        "    print(genero)"
      ],
      "metadata": {
        "id": "rCbNAzpSHy-B"
      },
      "execution_count": null,
      "outputs": []
    },
    {
      "cell_type": "code",
      "source": [
        "\n",
        "while True:\n",
        "  genero_escolhido = input(\"Qual gênero de filme você gostaria de explorar? \\n\")\n",
        "  if genero_escolhido in generos_filmes:\n",
        "        print(f\"Ótima escolha! Vamos dar uma olhada em filmes de {genero_escolhido}.\")\n",
        "        print(\"Aqui estão algumas sugestões: \\n\")\n",
        "\n",
        "        break  # Sair do loop se o gênero for válido\n",
        "else:\n",
        "        print(\"Desculpe, não temos esse gênero no momento. Por favor, tente novamente.\")\n",
        "convo = model.start_chat(history=[ {\n",
        "    \"role\": \"user\",\n",
        "    \"parts\": [f\"indique 3 filmes do gênero escolhido: {genero_escolhido} \"]\n",
        "  },])\n",
        "\n",
        "convo.send_message(genero_escolhido)\n",
        "print(convo.last.text)\n"
      ],
      "metadata": {
        "id": "xWWLGVPiT5i9"
      },
      "execution_count": null,
      "outputs": []
    },
    {
      "cell_type": "code",
      "source": [
        "Escolhido = input(\"Coloque o nome do filme escolhido, \\n \\n\")\n",
        "if Escolhido in convo.last.text:\n",
        "  print(f\"Ótima escolha! Vamos dar uma olhada em filmes de {Escolhido}.\", \"\\n\")\n",
        "\n",
        "convo = model.start_chat(history=[\n",
        "  {\"role\": \"user\",\n",
        "    \"parts\": [\"Em qual Streaming posso assistir o  filme escolhido hoje?\"]\n",
        "  },\n",
        "  {\n",
        "    \"role\": \"model\",\n",
        "    \"parts\": [\"Aqui está onde você pode assistir o filme que você escolheu, responder apenas a informação solicitada.\"],}\n",
        "])\n",
        "\n",
        "convo.send_message(Escolhido)\n",
        "print(convo.last.text)\n",
        "print(\"Obrigado por utilizar o Escolha Certa! Volte sempre!\")"
      ],
      "metadata": {
        "id": "X7W_1OY9bZNS"
      },
      "execution_count": null,
      "outputs": []
    },
    {
      "cell_type": "code",
      "source": [],
      "metadata": {
        "id": "fTckOPwOl1Q5"
      },
      "execution_count": null,
      "outputs": []
    }
  ]
}