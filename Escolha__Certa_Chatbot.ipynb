{
  "nbformat": 4,
  "nbformat_minor": 0,
  "metadata": {
    "colab": {
      "provenance": [],
      "authorship_tag": "ABX9TyMkGetnwJhOMZPErLXV1/QX",
      "include_colab_link": true
    },
    "kernelspec": {
      "name": "python3",
      "display_name": "Python 3"
    },
    "language_info": {
      "name": "python"
    }
  },
  "cells": [
    {
      "cell_type": "markdown",
      "metadata": {
        "id": "view-in-github",
        "colab_type": "text"
      },
      "source": [
        "<a href=\"https://colab.research.google.com/github/edbortolotte/Projeto_Gemini_Collab/blob/main/Escolha__Certa_Chatbot.ipynb\" target=\"_parent\"><img src=\"https://colab.research.google.com/assets/colab-badge.svg\" alt=\"Open In Colab\"/></a>"
      ]
    },
    {
      "cell_type": "code",
      "execution_count": null,
      "metadata": {
        "id": "y4mo7WijnKJj"
      },
      "outputs": [],
      "source": []
    },
    {
      "cell_type": "code",
      "execution_count": 1,
      "metadata": {
        "id": "NsxwkmEyTM3D"
      },
      "outputs": [],
      "source": [
        "!pip install -q -U google-generativeai"
      ]
    },
    {
      "cell_type": "code",
      "source": [
        "import google.generativeai as genai\n",
        "from google.colab import userdata\n",
        "api_key = userdata.get(\"SECRET_KEY\")\n",
        "genai.configure(api_key=api_key)"
      ],
      "metadata": {
        "id": "33WQ_ZbTTc9v"
      },
      "execution_count": 2,
      "outputs": []
    },
    {
      "cell_type": "code",
      "source": [
        "for m in genai.list_models():\n",
        "  if 'generateContent' in m.supported_generation_methods:\n",
        "    print(m.name)\n",
        "    generation_config = {\n",
        "\"candidate_count\": 1,\n",
        "\"temperature\": 0.5,\n",
        "}\n",
        "safety_settings ={\n",
        "    \"HARASSMENT\": \"BLOCK_NONE\",\n",
        "    \"HATE\": \"BLOCK_NONE\",\n",
        "    \"SEXUAL\": \"BLOCK_NONE\",\n",
        "    \"DANGEROUS\": \"BLOCK_NONE\"}\n",
        "model = genai.GenerativeModel(model_name=\"gemini-1.0-pro\",\n",
        "                              generation_config=generation_config,\n",
        "                              safety_settings=safety_settings)"
      ],
      "metadata": {
        "id": "YIMAxhMoThxc",
        "colab": {
          "base_uri": "https://localhost:8080/",
          "height": 143
        },
        "outputId": "aefd24bf-06f4-4944-b1c9-6a45db508cd7"
      },
      "execution_count": 3,
      "outputs": [
        {
          "output_type": "stream",
          "name": "stdout",
          "text": [
            "models/gemini-1.0-pro\n",
            "models/gemini-1.0-pro-001\n",
            "models/gemini-1.0-pro-latest\n",
            "models/gemini-1.0-pro-vision-latest\n",
            "models/gemini-1.5-pro-latest\n",
            "models/gemini-pro\n",
            "models/gemini-pro-vision\n"
          ]
        }
      ]
    },
    {
      "cell_type": "code",
      "source": [
        "chat = model.start_chat(history=[])\n",
        "response = model.generate_content\n"
      ],
      "metadata": {
        "id": "BKKSQdORTpim"
      },
      "execution_count": 4,
      "outputs": []
    },
    {
      "cell_type": "code",
      "source": [
        "generation_config = {\n",
        "  \"temperature\": 0,\n",
        "  \"top_p\": 0.5,\n",
        "  \"top_k\": 0,\n",
        "  \"max_output_tokens\": 8192,\n",
        "}"
      ],
      "metadata": {
        "id": "6vmMBKlrHk7w"
      },
      "execution_count": 5,
      "outputs": []
    },
    {
      "cell_type": "code",
      "source": [
        "safety_settings = [\n",
        "  {\n",
        "    \"category\": \"HARM_CATEGORY_HARASSMENT\",\n",
        "    \"threshold\": \"BLOCK_MEDIUM_AND_ABOVE\"\n",
        "  },\n",
        "  {\n",
        "    \"category\": \"HARM_CATEGORY_HATE_SPEECH\",\n",
        "    \"threshold\": \"BLOCK_MEDIUM_AND_ABOVE\"\n",
        "  },\n",
        "  {\n",
        "    \"category\": \"HARM_CATEGORY_SEXUALLY_EXPLICIT\",\n",
        "    \"threshold\": \"BLOCK_MEDIUM_AND_ABOVE\"\n",
        "  },\n",
        "  {\n",
        "    \"category\": \"HARM_CATEGORY_DANGEROUS_CONTENT\",\n",
        "    \"threshold\": \"BLOCK_MEDIUM_AND_ABOVE\"\n",
        "  },\n",
        "]\n",
        "\n",
        "system_instruction = \"Cite apenas filmes populares e com boas notas no imdb\"\n",
        "\n",
        "model = genai.GenerativeModel(model_name=\"gemini-1.5-pro-latest\",\n",
        "                              generation_config=generation_config,\n",
        "                              system_instruction=system_instruction,\n",
        "                              safety_settings=safety_settings)"
      ],
      "metadata": {
        "id": "zmMduenZHp7R"
      },
      "execution_count": 6,
      "outputs": []
    },
    {
      "cell_type": "code",
      "source": [
        "nome_chatbot = \"Escolha Certa\"\n",
        "print(f\"Olá! Sou o {nome_chatbot}! Seu assistente virtual, e estou aqui  para  ajudar a escolher seu próximo filme favorito! \\n\")\n",
        "generos_filmes = [\n",
        "    \"acao\",\n",
        "    \"drama\",\n",
        "    \"romance\",\n",
        "    \"epico\",\n",
        "    \"terror\",\n",
        "    \"infantil\",\n",
        "    \"animacao\",\n",
        "    \"anime\",\n",
        "    \"documentario\",\n",
        "    \"baseado em fatos\",\n",
        "    \"premiados\",\n",
        "    \"comedia\",\n",
        "    \"aventura\",\n",
        "    \"ficcao cientifica\",\n",
        "    \"fantasia\",\n",
        "    \"historico\" \"\\n\"\n",
        "]\n",
        "print(\"Aqui estão os gêneros de filmes que você pode escolher: \\n\")\n",
        "for genero in generos_filmes:\n",
        "    print(genero)"
      ],
      "metadata": {
        "id": "rCbNAzpSHy-B",
        "colab": {
          "base_uri": "https://localhost:8080/"
        },
        "outputId": "75f4def5-07d4-4d10-8d10-5f681be9d566"
      },
      "execution_count": 32,
      "outputs": [
        {
          "output_type": "stream",
          "name": "stdout",
          "text": [
            "Olá! Sou o Escolha Certa! Seu assistente virtual, e estou aqui  para  ajudar a escolher seu próximo filme favorito! \n",
            "\n",
            "Aqui estão os gêneros de filmes que você pode escolher: \n",
            "\n",
            "acao\n",
            "drama\n",
            "romance\n",
            "epico\n",
            "terror\n",
            "infantil\n",
            "animacao\n",
            "anime\n",
            "documentario\n",
            "baseado em fatos\n",
            "premiados\n",
            "comedia\n",
            "aventura\n",
            "ficcao cientifica\n",
            "fantasia\n",
            "historico\n",
            "\n"
          ]
        }
      ]
    },
    {
      "cell_type": "code",
      "source": [
        "\n",
        "while True:\n",
        "  genero_escolhido = input(\"Qual gênero de filme você gostaria de explorar? \\n\")\n",
        "  if genero_escolhido in generos_filmes:\n",
        "        print(f\" \\nÓtima escolha! Vamos dar uma olhada em filmes de  {genero_escolhido} \\n\")\n",
        "        print(\"Aqui estão algumas sugestões: \\n\")\n",
        "\n",
        "        break  # Sair do loop se o gênero for válido\n",
        "else:\n",
        "        print(\"Desculpe, não temos esse gênero no momento. Por favor, tente novamente.\")\n",
        "convo = model.start_chat(history=[ {\n",
        "    \"role\": \"user\",\n",
        "    \"parts\": [f\"indique 3 filmes do gênero escolhido: {genero_escolhido} \"]\n",
        "  },])\n",
        "\n",
        "convo.send_message(genero_escolhido)\n",
        "print(convo.last.text)\n"
      ],
      "metadata": {
        "id": "xWWLGVPiT5i9",
        "colab": {
          "base_uri": "https://localhost:8080/",
          "height": 306
        },
        "outputId": "2d4b5473-8002-46b4-c18e-d5f01b35bdb2"
      },
      "execution_count": 33,
      "outputs": [
        {
          "output_type": "stream",
          "name": "stdout",
          "text": [
            "Qual gênero de filme você gostaria de explorar? \n",
            "epico\n",
            " \n",
            "Ótima escolha! Vamos dar uma olhada em filmes de  epico \n",
            "\n",
            "Aqui estão algumas sugestões: \n",
            "\n",
            "## 3 Filmes Épicos Populares e Bem Avaliados no IMDb:\n",
            "\n",
            "1. **O Senhor dos Anéis: O Retorno do Rei (2003):** Este épico de fantasia, com nota 9.0 no IMDb, conclui a trilogia de Peter Jackson baseada na obra de J.R.R. Tolkien. Acompanhamos Frodo e Sam em sua jornada final para destruir o Um Anel, enquanto Aragorn se prepara para a batalha final contra as forças de Sauron. O filme é aclamado por seus efeitos especiais inovadores, atuações memoráveis e uma história emocionante que cativa o público.\n",
            "\n",
            "2. **Gladiador (2000):** Com nota 8.5 no IMDb, este épico histórico conta a história de Maximus, um general romano traído e forçado a se tornar um gladiador. Buscando vingança contra o imperador Commodus, Maximus se torna um herói do povo e um símbolo de esperança. O filme é conhecido por suas cenas de ação espetaculares, a performance icônica de Russell Crowe e a trilha sonora marcante.\n",
            "\n",
            "3. **A Lista de Schindler (1993):** Este drama histórico épico, com nota 9.0 no IMDb, conta a história real de Oskar Schindler, um empresário alemão que salvou a vida de mais de mil judeus durante o Holocausto. O filme é uma obra-prima cinematográfica, com direção impecável de Steven Spielberg, atuações poderosas e uma história comovente que nos lembra da importância da compaixão e da coragem em tempos de escuridão. \n",
            "\n"
          ]
        }
      ]
    },
    {
      "cell_type": "code",
      "source": [
        "Escolhido = input(\"Coloque o nome do filme escolhido, \\n \\n\")\n",
        "if Escolhido in convo.last.text:\n",
        "  print(f\"Ótima escolha! Vamos dar uma olhada em filmes de {Escolhido}.\", \"\\n\")\n",
        "\n",
        "convo = model.start_chat(history=[\n",
        "  {\"role\": \"user\",\n",
        "    \"parts\": [\"Em qual Streaming posso assistir o  filme escolhido hoje?\"]\n",
        "  },\n",
        "  {\n",
        "    \"role\": \"model\",\n",
        "    \"parts\": [\"Aqui está onde você pode assistir o filme que você escolheu, responder apenas a informação solicitada.\"],}\n",
        "])\n",
        "\n",
        "convo.send_message(Escolhido)\n",
        "print(convo.last.text)\n",
        "print(\"Obrigado por utilizar o Escolha Certa! Volte sempre!\")"
      ],
      "metadata": {
        "id": "X7W_1OY9bZNS",
        "colab": {
          "base_uri": "https://localhost:8080/",
          "height": 161
        },
        "outputId": "f5a158a9-183a-4570-8567-491fb2ed3432"
      },
      "execution_count": 34,
      "outputs": [
        {
          "output_type": "stream",
          "name": "stdout",
          "text": [
            "Coloque o nome do filme escolhido, \n",
            " \n",
            "gladiador\n",
            "Ótima escolha! Vamos dar uma olhada em filmes de gladiador. \n",
            "\n",
            "Gladiador está disponível para streaming no Amazon Prime Video e no Paramount+. \n",
            "\n",
            "Obrigado por utilizar o Escolha Certa! Volte sempre!\n"
          ]
        }
      ]
    },
    {
      "cell_type": "code",
      "source": [],
      "metadata": {
        "id": "fTckOPwOl1Q5"
      },
      "execution_count": null,
      "outputs": []
    }
  ]
}